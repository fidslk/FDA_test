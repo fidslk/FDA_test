{
  "cells": [
    {
      "cell_type": "markdown",
      "source": [
        ""
      ],
      "metadata": {
        "id": "6V1etfj-TrdP"
      },
      "id": "6V1etfj-TrdP"
    },
    {
      "cell_type": "markdown",
      "id": "indian-audience",
      "metadata": {
        "id": "indian-audience"
      },
      "source": [
        "### Import the required Python Packages (Libraries/Modules)"
      ]
    },
    {
      "cell_type": "code",
      "execution_count": 11,
      "id": "prospective-auditor",
      "metadata": {
        "collapsed": true,
        "id": "prospective-auditor"
      },
      "outputs": [],
      "source": [
        "import pandas as pd               # pandas library is used for data cleaning and analysis\n",
        "import numpy as np                # numpy library is used to perform a wide variety of mathematical operations on arrays\n",
        "from pandas import ExcelWriter    # import creating excel file functionaly (ExcelWriter class) from the pandas library/module\n",
        "import datetime                   # datetime library is used for manipulating dates and times,eg- recognising date from a text\n",
        "\n",
        "from copy import deepcopy         # Helps to create copyies of objects\n",
        "import glob                       # Helps to return all file paths that match a specific pattern\n",
        "import os                         # creating and removing a folder, fetching its contents, changing and identifying the current directory                   \n",
        "\n",
        "import re                         # Helps in data manupulation, it used to identify whether a pattern exists in a given sequence of characters (string) or not and also to locate the position of the pattern in a corpus of text.\n",
        "from fuzzywuzzy import fuzz       # Helps to Approximate String Matching, uses Levenshtein Distance to calculate the differences between sequences and patterns\n",
        "from fuzzywuzzy import process\n",
        "\n"
      ]
    },
    {
      "cell_type": "code",
      "source": [
        "# Since fuzzywuzzy library is not installed in google colab, we have to install by using following terminal command\n",
        "!pip install fuzzywuzzy  python-Levenshtein"
      ],
      "metadata": {
        "colab": {
          "base_uri": "https://localhost:8080/"
        },
        "id": "suyTv6Mhg4Gu",
        "outputId": "83160716-e9a8-4cac-df4e-af93bda86f72"
      },
      "id": "suyTv6Mhg4Gu",
      "execution_count": 6,
      "outputs": [
        {
          "output_type": "stream",
          "name": "stdout",
          "text": [
            "Looking in indexes: https://pypi.org/simple, https://us-python.pkg.dev/colab-wheels/public/simple/\n",
            "Requirement already satisfied: fuzzywuzzy in /usr/local/lib/python3.7/dist-packages (0.18.0)\n",
            "Requirement already satisfied: python-Levenshtein in /usr/local/lib/python3.7/dist-packages (0.12.2)\n",
            "Requirement already satisfied: setuptools in /usr/local/lib/python3.7/dist-packages (from python-Levenshtein) (57.4.0)\n"
          ]
        }
      ]
    },
    {
      "cell_type": "code",
      "execution_count": 9,
      "id": "overhead-attention",
      "metadata": {
        "collapsed": true,
        "id": "overhead-attention"
      },
      "outputs": [],
      "source": [
        "pd.set_option(\"display.max_columns\", None) # Set the pandas option to show all columns of a dataframe without truncating (default is 20 columns)"
      ]
    },
    {
      "cell_type": "markdown",
      "id": "developing-exhibition",
      "metadata": {
        "id": "developing-exhibition"
      },
      "source": [
        "### Read files / Load required data into python analysis platform\n",
        "\n",
        "---\n",
        "\n"
      ]
    },
    {
      "cell_type": "code",
      "execution_count": null,
      "id": "aggregate-cement",
      "metadata": {
        "collapsed": true,
        "id": "aggregate-cement"
      },
      "outputs": [],
      "source": [
        "PR_data = pd.read_excel(r'C:\\Users\\Kelum desktop PC\\Downloads\\Case_one_Dataset.xlsx', sheet_name = 'PR_data', skiprows=0 , dtype={\"Approved Date\":'str'}) #,dtype={ \"Vendor\":'str'}"
      ]
    },
    {
      "cell_type": "code",
      "execution_count": null,
      "id": "commercial-richards",
      "metadata": {
        "collapsed": true,
        "id": "commercial-richards",
        "outputId": "17bbcb66-2194-4554-e5c7-3a3d329d9e64"
      },
      "outputs": [
        {
          "name": "stdout",
          "output_type": "stream",
          "text": [
            "<class 'pandas.core.frame.DataFrame'>\n",
            "RangeIndex: 1689 entries, 0 to 1688\n",
            "Data columns (total 22 columns):\n",
            " #   Column                  Non-Null Count  Dtype  \n",
            "---  ------                  --------------  -----  \n",
            " 0   Request No              1689 non-null   object \n",
            " 1   SeqNo                   1689 non-null   int64  \n",
            " 2   Project Code            1689 non-null   object \n",
            " 3   Project Desc            1689 non-null   object \n",
            " 4   PO No                   1689 non-null   int64  \n",
            " 5   PO Status               1688 non-null   object \n",
            " 6   Budgeted Cost Center    1689 non-null   int64  \n",
            " 7   Settlement Cost Center  1689 non-null   int64  \n",
            " 8   GL Code                 1689 non-null   int64  \n",
            " 9   Settlement GL Code      1689 non-null   int64  \n",
            " 10  Start Month             1689 non-null   int64  \n",
            " 11  End Month               1689 non-null   int64  \n",
            " 12  ETADate                 28 non-null     object \n",
            " 13  Material                505 non-null    object \n",
            " 14  Description             1689 non-null   object \n",
            " 15  Qty                     1689 non-null   float64\n",
            " 16  Unit Amount             1689 non-null   float64\n",
            " 17  Total Amount            1689 non-null   float64\n",
            " 18  Currency Code           1689 non-null   object \n",
            " 19  Local Currency Amount   1689 non-null   float64\n",
            " 20  Requester               1689 non-null   object \n",
            " 21  Approved Date           1689 non-null   object \n",
            "dtypes: float64(4), int64(8), object(10)\n",
            "memory usage: 290.4+ KB\n"
          ]
        }
      ],
      "source": [
        "PR_data.info()"
      ]
    },
    {
      "cell_type": "code",
      "execution_count": null,
      "id": "sexual-trial",
      "metadata": {
        "collapsed": true,
        "id": "sexual-trial",
        "outputId": "9eead0af-28aa-4e23-9b16-f78c48af5e8f"
      },
      "outputs": [
        {
          "data": {
            "text/html": [
              "<div>\n",
              "<style scoped>\n",
              "    .dataframe tbody tr th:only-of-type {\n",
              "        vertical-align: middle;\n",
              "    }\n",
              "\n",
              "    .dataframe tbody tr th {\n",
              "        vertical-align: top;\n",
              "    }\n",
              "\n",
              "    .dataframe thead th {\n",
              "        text-align: right;\n",
              "    }\n",
              "</style>\n",
              "<table border=\"1\" class=\"dataframe\">\n",
              "  <thead>\n",
              "    <tr style=\"text-align: right;\">\n",
              "      <th></th>\n",
              "      <th>Request No</th>\n",
              "      <th>SeqNo</th>\n",
              "      <th>Project Code</th>\n",
              "      <th>Project Desc</th>\n",
              "      <th>PO No</th>\n",
              "      <th>PO Status</th>\n",
              "      <th>Budgeted Cost Center</th>\n",
              "      <th>Settlement Cost Center</th>\n",
              "      <th>GL Code</th>\n",
              "      <th>Settlement GL Code</th>\n",
              "      <th>Start Month</th>\n",
              "      <th>End Month</th>\n",
              "      <th>ETADate</th>\n",
              "      <th>Material</th>\n",
              "      <th>Description</th>\n",
              "      <th>Qty</th>\n",
              "      <th>Unit Amount</th>\n",
              "      <th>Total Amount</th>\n",
              "      <th>Currency Code</th>\n",
              "      <th>Local Currency Amount</th>\n",
              "      <th>Requester</th>\n",
              "      <th>Approved Date</th>\n",
              "    </tr>\n",
              "  </thead>\n",
              "  <tbody>\n",
              "    <tr>\n",
              "      <th>0</th>\n",
              "      <td>ANP-SEV-ST2-20040002</td>\n",
              "      <td>0</td>\n",
              "      <td>ANPVN5020030011</td>\n",
              "      <td>Promotion Licence Application Fee 2020</td>\n",
              "      <td>480083689</td>\n",
              "      <td>PO Issued</td>\n",
              "      <td>501730</td>\n",
              "      <td>501730</td>\n",
              "      <td>872400</td>\n",
              "      <td>872400</td>\n",
              "      <td>202004</td>\n",
              "      <td>202004</td>\n",
              "      <td>NaN</td>\n",
              "      <td>NaN</td>\n",
              "      <td>License:Extend 1 YearWarranty(11/4-10/5)</td>\n",
              "      <td>1.0</td>\n",
              "      <td>7200.0</td>\n",
              "      <td>7200.0</td>\n",
              "      <td>TWD</td>\n",
              "      <td>7200.0</td>\n",
              "      <td>Le Thi Hong Van</td>\n",
              "      <td>2020-04-01 21:19:46</td>\n",
              "    </tr>\n",
              "    <tr>\n",
              "      <th>1</th>\n",
              "      <td>ANP-SEV-ST2-20040002</td>\n",
              "      <td>1</td>\n",
              "      <td>ANPVN5020030011</td>\n",
              "      <td>Promotion Licence Application Fee 2020</td>\n",
              "      <td>480083689</td>\n",
              "      <td>PO Issued</td>\n",
              "      <td>501730</td>\n",
              "      <td>501730</td>\n",
              "      <td>872400</td>\n",
              "      <td>872400</td>\n",
              "      <td>202004</td>\n",
              "      <td>202004</td>\n",
              "      <td>NaN</td>\n",
              "      <td>NaN</td>\n",
              "      <td>License: Film4K Promotion (11/4-10/5)</td>\n",
              "      <td>1.0</td>\n",
              "      <td>7200.0</td>\n",
              "      <td>7200.0</td>\n",
              "      <td>TWD</td>\n",
              "      <td>7200.0</td>\n",
              "      <td>Le Thi Hong Van</td>\n",
              "      <td>2020-04-01 21:19:46</td>\n",
              "    </tr>\n",
              "    <tr>\n",
              "      <th>2</th>\n",
              "      <td>ANP-SEV-ST2-20040002</td>\n",
              "      <td>2</td>\n",
              "      <td>ANPVN5020030011</td>\n",
              "      <td>Promotion Licence Application Fee 2020</td>\n",
              "      <td>480083689</td>\n",
              "      <td>PO Issued</td>\n",
              "      <td>501730</td>\n",
              "      <td>501730</td>\n",
              "      <td>872400</td>\n",
              "      <td>872400</td>\n",
              "      <td>202004</td>\n",
              "      <td>202004</td>\n",
              "      <td>NaN</td>\n",
              "      <td>NaN</td>\n",
              "      <td>License: 6Months Clip TV Free(11/4-10/5)</td>\n",
              "      <td>1.0</td>\n",
              "      <td>7200.0</td>\n",
              "      <td>7200.0</td>\n",
              "      <td>TWD</td>\n",
              "      <td>7200.0</td>\n",
              "      <td>Le Thi Hong Van</td>\n",
              "      <td>2020-04-01 21:19:46</td>\n",
              "    </tr>\n",
              "    <tr>\n",
              "      <th>3</th>\n",
              "      <td>ANP-SEV-ST2-20040002</td>\n",
              "      <td>3</td>\n",
              "      <td>ANPVN5020030011</td>\n",
              "      <td>Promotion Licence Application Fee 2020</td>\n",
              "      <td>480083689</td>\n",
              "      <td>PO Issued</td>\n",
              "      <td>501730</td>\n",
              "      <td>501730</td>\n",
              "      <td>872400</td>\n",
              "      <td>872400</td>\n",
              "      <td>202004</td>\n",
              "      <td>202004</td>\n",
              "      <td>NaN</td>\n",
              "      <td>NaN</td>\n",
              "      <td>License: 6or 12 Months CAP ON(11/4-10/5)</td>\n",
              "      <td>1.0</td>\n",
              "      <td>7200.0</td>\n",
              "      <td>7200.0</td>\n",
              "      <td>TWD</td>\n",
              "      <td>7200.0</td>\n",
              "      <td>Le Thi Hong Van</td>\n",
              "      <td>2020-04-01 21:19:46</td>\n",
              "    </tr>\n",
              "    <tr>\n",
              "      <th>4</th>\n",
              "      <td>ANP-SEV-ST2-20040004</td>\n",
              "      <td>0</td>\n",
              "      <td>ANPVN5020030034</td>\n",
              "      <td>Budget for FY20 1Q Promotion License</td>\n",
              "      <td>480083703</td>\n",
              "      <td>PO Issued</td>\n",
              "      <td>501730</td>\n",
              "      <td>501730</td>\n",
              "      <td>872400</td>\n",
              "      <td>872400</td>\n",
              "      <td>202004</td>\n",
              "      <td>202004</td>\n",
              "      <td>NaN</td>\n",
              "      <td>NaN</td>\n",
              "      <td>License:Peak Design Promotion(20/4-31/5)</td>\n",
              "      <td>1.0</td>\n",
              "      <td>7200.0</td>\n",
              "      <td>7200.0</td>\n",
              "      <td>TWD</td>\n",
              "      <td>7200.0</td>\n",
              "      <td>Le Thi Hong Van</td>\n",
              "      <td>2020-04-07 12:00:37</td>\n",
              "    </tr>\n",
              "  </tbody>\n",
              "</table>\n",
              "</div>"
            ],
            "text/plain": [
              "             Request No  SeqNo     Project Code  \\\n",
              "0  ANP-SEV-ST2-20040002      0  ANPVN5020030011   \n",
              "1  ANP-SEV-ST2-20040002      1  ANPVN5020030011   \n",
              "2  ANP-SEV-ST2-20040002      2  ANPVN5020030011   \n",
              "3  ANP-SEV-ST2-20040002      3  ANPVN5020030011   \n",
              "4  ANP-SEV-ST2-20040004      0  ANPVN5020030034   \n",
              "\n",
              "                             Project Desc      PO No  PO Status  \\\n",
              "0  Promotion Licence Application Fee 2020  480083689  PO Issued   \n",
              "1  Promotion Licence Application Fee 2020  480083689  PO Issued   \n",
              "2  Promotion Licence Application Fee 2020  480083689  PO Issued   \n",
              "3  Promotion Licence Application Fee 2020  480083689  PO Issued   \n",
              "4    Budget for FY20 1Q Promotion License  480083703  PO Issued   \n",
              "\n",
              "   Budgeted Cost Center  Settlement Cost Center  GL Code  Settlement GL Code  \\\n",
              "0                501730                  501730   872400              872400   \n",
              "1                501730                  501730   872400              872400   \n",
              "2                501730                  501730   872400              872400   \n",
              "3                501730                  501730   872400              872400   \n",
              "4                501730                  501730   872400              872400   \n",
              "\n",
              "   Start Month  End Month ETADate Material  \\\n",
              "0       202004     202004     NaN      NaN   \n",
              "1       202004     202004     NaN      NaN   \n",
              "2       202004     202004     NaN      NaN   \n",
              "3       202004     202004     NaN      NaN   \n",
              "4       202004     202004     NaN      NaN   \n",
              "\n",
              "                                Description  Qty  Unit Amount  Total Amount  \\\n",
              "0  License:Extend 1 YearWarranty(11/4-10/5)  1.0       7200.0        7200.0   \n",
              "1     License: Film4K Promotion (11/4-10/5)  1.0       7200.0        7200.0   \n",
              "2  License: 6Months Clip TV Free(11/4-10/5)  1.0       7200.0        7200.0   \n",
              "3  License: 6or 12 Months CAP ON(11/4-10/5)  1.0       7200.0        7200.0   \n",
              "4  License:Peak Design Promotion(20/4-31/5)  1.0       7200.0        7200.0   \n",
              "\n",
              "  Currency Code  Local Currency Amount        Requester        Approved Date  \n",
              "0           TWD                 7200.0  Le Thi Hong Van  2020-04-01 21:19:46  \n",
              "1           TWD                 7200.0  Le Thi Hong Van  2020-04-01 21:19:46  \n",
              "2           TWD                 7200.0  Le Thi Hong Van  2020-04-01 21:19:46  \n",
              "3           TWD                 7200.0  Le Thi Hong Van  2020-04-01 21:19:46  \n",
              "4           TWD                 7200.0  Le Thi Hong Van  2020-04-07 12:00:37  "
            ]
          },
          "execution_count": 38,
          "metadata": {},
          "output_type": "execute_result"
        }
      ],
      "source": [
        "PR_data.head()"
      ]
    },
    {
      "cell_type": "code",
      "execution_count": null,
      "id": "compound-allen",
      "metadata": {
        "collapsed": true,
        "id": "compound-allen"
      },
      "outputs": [],
      "source": [
        "PO_Data = pd.read_excel(r'C:\\Users\\Kelum desktop PC\\Downloads\\Case_one_Dataset.xlsx', sheet_name = 'PO_Data', skiprows=0 ,dtype={ \"Document Date\":'str'}) #,dtype={ \"Vendor\":'str'}"
      ]
    },
    {
      "cell_type": "markdown",
      "source": [
        ""
      ],
      "metadata": {
        "id": "dxhQuvlVTgHZ"
      },
      "id": "dxhQuvlVTgHZ"
    },
    {
      "cell_type": "code",
      "execution_count": null,
      "id": "played-contrary",
      "metadata": {
        "collapsed": true,
        "id": "played-contrary"
      },
      "outputs": [],
      "source": [
        "GR_Data = pd.read_excel(r'C:\\Users\\Kelum desktop PC\\Downloads\\Case_one_Dataset.xlsx', sheet_name = 'GR_Data', skiprows=0 ) #,dtype={ \"Vendor\":'str'}"
      ]
    },
    {
      "cell_type": "code",
      "execution_count": null,
      "id": "dress-pledge",
      "metadata": {
        "collapsed": true,
        "id": "dress-pledge"
      },
      "outputs": [],
      "source": [
        "Invoice_data = pd.read_excel(r'C:\\Users\\Kelum desktop PC\\Downloads\\Case_one_Dataset.xlsx', sheet_name = 'Invoice_data', skiprows=0 ) #,dtype={ \"Vendor\":'str'}"
      ]
    },
    {
      "cell_type": "code",
      "execution_count": null,
      "id": "jewish-terrain",
      "metadata": {
        "collapsed": true,
        "id": "jewish-terrain"
      },
      "outputs": [],
      "source": [
        "Payment_Data = pd.read_excel(r'C:\\Users\\Kelum desktop PC\\Downloads\\Case_one_Dataset.xlsx', sheet_name = 'Payment_Data', skiprows=0 ) #,dtype={ \"Vendor\":'str'}"
      ]
    },
    {
      "cell_type": "code",
      "execution_count": null,
      "id": "enhanced-sleeping",
      "metadata": {
        "collapsed": true,
        "id": "enhanced-sleeping"
      },
      "outputs": [],
      "source": [
        "Supplier_master = pd.read_excel(r'C:\\Users\\Kelum desktop PC\\Downloads\\Case_one_Dataset.xlsx', sheet_name = 'Supplier_master', skiprows=0 ) #,dtype={ \"Vendor\":'str'}"
      ]
    },
    {
      "cell_type": "code",
      "execution_count": null,
      "id": "greenhouse-correlation",
      "metadata": {
        "collapsed": true,
        "id": "greenhouse-correlation"
      },
      "outputs": [],
      "source": [
        "Employee_Master = pd.read_excel(r'C:\\Users\\Kelum desktop PC\\Downloads\\Case_one_Dataset.xlsx', sheet_name = 'Employee_Master', skiprows=0 ) #,dtype={ \"Vendor\":'str'}"
      ]
    },
    {
      "cell_type": "code",
      "execution_count": null,
      "id": "reported-rabbit",
      "metadata": {
        "collapsed": true,
        "id": "reported-rabbit"
      },
      "outputs": [],
      "source": [
        "Vendor_Evalution = pd.read_excel(r'C:\\Users\\Kelum desktop PC\\Downloads\\Case_one_Dataset.xlsx', sheet_name = 'Vendor_Evalution', skiprows=0 ) #,dtype={ \"Vendor\":'str'}"
      ]
    },
    {
      "cell_type": "code",
      "execution_count": null,
      "id": "indoor-round",
      "metadata": {
        "collapsed": true,
        "id": "indoor-round"
      },
      "outputs": [],
      "source": [
        "TW_Holidays = pd.read_excel(r'C:\\Users\\Kelum desktop PC\\Downloads\\Case_one_Dataset.xlsx', sheet_name = 'TW_Holidays', skiprows=0 ) #,dtype={ \"Vendor\":'str'}"
      ]
    },
    {
      "cell_type": "code",
      "execution_count": null,
      "id": "entertaining-president",
      "metadata": {
        "collapsed": true,
        "id": "entertaining-president"
      },
      "outputs": [],
      "source": [
        ""
      ]
    },
    {
      "cell_type": "code",
      "execution_count": null,
      "id": "hidden-schedule",
      "metadata": {
        "collapsed": true,
        "id": "hidden-schedule"
      },
      "outputs": [],
      "source": [
        ""
      ]
    },
    {
      "cell_type": "markdown",
      "id": "qualified-dietary",
      "metadata": {
        "id": "qualified-dietary"
      },
      "source": [
        "### Adding a unique reference column to each dataframe"
      ]
    },
    {
      "cell_type": "code",
      "execution_count": null,
      "id": "collected-kitty",
      "metadata": {
        "collapsed": true,
        "id": "collected-kitty",
        "outputId": "136d5fd1-e672-425b-b537-b7758bc966de"
      },
      "outputs": [
        {
          "data": {
            "text/html": [
              "<div>\n",
              "<style scoped>\n",
              "    .dataframe tbody tr th:only-of-type {\n",
              "        vertical-align: middle;\n",
              "    }\n",
              "\n",
              "    .dataframe tbody tr th {\n",
              "        vertical-align: top;\n",
              "    }\n",
              "\n",
              "    .dataframe thead th {\n",
              "        text-align: right;\n",
              "    }\n",
              "</style>\n",
              "<table border=\"1\" class=\"dataframe\">\n",
              "  <thead>\n",
              "    <tr style=\"text-align: right;\">\n",
              "      <th></th>\n",
              "      <th>FMC_PO_Ref</th>\n",
              "      <th>Purchasing Document</th>\n",
              "      <th>Item</th>\n",
              "      <th>Tax code</th>\n",
              "      <th>Purchasing Doc. Type</th>\n",
              "      <th>Purch. Doc. Category</th>\n",
              "      <th>Purchasing Group</th>\n",
              "      <th>PO history/release documentation</th>\n",
              "      <th>Document Date</th>\n",
              "      <th>Vendor/supplying plant</th>\n",
              "      <th>Material</th>\n",
              "      <th>Short Text</th>\n",
              "      <th>Material Group</th>\n",
              "      <th>Deletion Indicator</th>\n",
              "      <th>Item Category</th>\n",
              "      <th>Acct Assignment Cat.</th>\n",
              "      <th>Plant</th>\n",
              "      <th>Storage Location</th>\n",
              "      <th>Order Quantity</th>\n",
              "      <th>Order Unit</th>\n",
              "      <th>Quantity in SKU</th>\n",
              "      <th>Stockkeeping unit</th>\n",
              "      <th>Net price</th>\n",
              "      <th>Currency</th>\n",
              "      <th>Price Unit</th>\n",
              "      <th>Target Quantity</th>\n",
              "      <th>Open Target Quantity</th>\n",
              "      <th>Still to be delivered (qty)</th>\n",
              "      <th>Still to be delivered (value)</th>\n",
              "      <th>Still to be invoiced (qty)</th>\n",
              "      <th>Still to be invoiced (val.)</th>\n",
              "      <th>No. of Positions</th>\n",
              "      <th>Unnamed: 31</th>\n",
              "      <th>Unnamed: 32</th>\n",
              "      <th>Unnamed: 33</th>\n",
              "      <th>Unnamed: 34</th>\n",
              "      <th>Request No</th>\n",
              "      <th>Project Code</th>\n",
              "      <th>Unnamed: 37</th>\n",
              "    </tr>\n",
              "  </thead>\n",
              "  <tbody>\n",
              "    <tr>\n",
              "      <th>0</th>\n",
              "      <td>FMC_PO_Ref_00001</td>\n",
              "      <td>480083689</td>\n",
              "      <td>10</td>\n",
              "      <td>I1</td>\n",
              "      <td>ZPOP</td>\n",
              "      <td>F</td>\n",
              "      <td>NT1</td>\n",
              "      <td>@0N\\QPO history/release documentati@</td>\n",
              "      <td>2020-04-01</td>\n",
              "      <td>11515      CTY TNHH TU VAN DAU TU NGAY MOI</td>\n",
              "      <td>NaN</td>\n",
              "      <td>License:Extend 1 YearWarranty(11/4-10/5)</td>\n",
              "      <td>9900</td>\n",
              "      <td>NaN</td>\n",
              "      <td>NaN</td>\n",
              "      <td>F</td>\n",
              "      <td>TW50</td>\n",
              "      <td>MAIN</td>\n",
              "      <td>1</td>\n",
              "      <td>SET</td>\n",
              "      <td>0</td>\n",
              "      <td>NaN</td>\n",
              "      <td>5400000.0</td>\n",
              "      <td>LKR</td>\n",
              "      <td>1</td>\n",
              "      <td>0</td>\n",
              "      <td>0</td>\n",
              "      <td>0</td>\n",
              "      <td>0</td>\n",
              "      <td>0</td>\n",
              "      <td>0</td>\n",
              "      <td>1</td>\n",
              "      <td>NaN</td>\n",
              "      <td>43200.0</td>\n",
              "      <td>NaN</td>\n",
              "      <td>NaN</td>\n",
              "      <td>ANP-SEV-ST2-20040002</td>\n",
              "      <td>ANPVN5020030011</td>\n",
              "      <td>NaN</td>\n",
              "    </tr>\n",
              "    <tr>\n",
              "      <th>1</th>\n",
              "      <td>FMC_PO_Ref_00002</td>\n",
              "      <td>480083689</td>\n",
              "      <td>20</td>\n",
              "      <td>I1</td>\n",
              "      <td>ZPOP</td>\n",
              "      <td>F</td>\n",
              "      <td>NT1</td>\n",
              "      <td>@0N\\QPO history/release documentati@</td>\n",
              "      <td>2020-04-01</td>\n",
              "      <td>11515      CTY TNHH TU VAN DAU TU NGAY MOI</td>\n",
              "      <td>NaN</td>\n",
              "      <td>License: Film4K Promotion (11/4-10/5)</td>\n",
              "      <td>9900</td>\n",
              "      <td>NaN</td>\n",
              "      <td>NaN</td>\n",
              "      <td>F</td>\n",
              "      <td>TW50</td>\n",
              "      <td>MAIN</td>\n",
              "      <td>1</td>\n",
              "      <td>SET</td>\n",
              "      <td>0</td>\n",
              "      <td>NaN</td>\n",
              "      <td>5400000.0</td>\n",
              "      <td>LKR</td>\n",
              "      <td>1</td>\n",
              "      <td>0</td>\n",
              "      <td>0</td>\n",
              "      <td>0</td>\n",
              "      <td>0</td>\n",
              "      <td>0</td>\n",
              "      <td>0</td>\n",
              "      <td>1</td>\n",
              "      <td>NaN</td>\n",
              "      <td>43200.0</td>\n",
              "      <td>NaN</td>\n",
              "      <td>NaN</td>\n",
              "      <td>ANP-SEV-ST2-20040002</td>\n",
              "      <td>ANPVN5020030011</td>\n",
              "      <td>NaN</td>\n",
              "    </tr>\n",
              "    <tr>\n",
              "      <th>2</th>\n",
              "      <td>FMC_PO_Ref_00003</td>\n",
              "      <td>480083689</td>\n",
              "      <td>30</td>\n",
              "      <td>I1</td>\n",
              "      <td>ZPOP</td>\n",
              "      <td>F</td>\n",
              "      <td>NT1</td>\n",
              "      <td>@0N\\QPO history/release documentati@</td>\n",
              "      <td>2020-04-01</td>\n",
              "      <td>11515      CTY TNHH TU VAN DAU TU NGAY MOI</td>\n",
              "      <td>NaN</td>\n",
              "      <td>License: 6Months Clip TV Free(11/4-10/5)</td>\n",
              "      <td>9900</td>\n",
              "      <td>NaN</td>\n",
              "      <td>NaN</td>\n",
              "      <td>F</td>\n",
              "      <td>TW50</td>\n",
              "      <td>MAIN</td>\n",
              "      <td>1</td>\n",
              "      <td>SET</td>\n",
              "      <td>0</td>\n",
              "      <td>NaN</td>\n",
              "      <td>5400000.0</td>\n",
              "      <td>LKR</td>\n",
              "      <td>1</td>\n",
              "      <td>0</td>\n",
              "      <td>0</td>\n",
              "      <td>0</td>\n",
              "      <td>0</td>\n",
              "      <td>0</td>\n",
              "      <td>0</td>\n",
              "      <td>1</td>\n",
              "      <td>NaN</td>\n",
              "      <td>43200.0</td>\n",
              "      <td>NaN</td>\n",
              "      <td>NaN</td>\n",
              "      <td>ANP-SEV-ST2-20040002</td>\n",
              "      <td>ANPVN5020030011</td>\n",
              "      <td>NaN</td>\n",
              "    </tr>\n",
              "    <tr>\n",
              "      <th>3</th>\n",
              "      <td>FMC_PO_Ref_00004</td>\n",
              "      <td>480083689</td>\n",
              "      <td>40</td>\n",
              "      <td>I1</td>\n",
              "      <td>ZPOP</td>\n",
              "      <td>F</td>\n",
              "      <td>NT1</td>\n",
              "      <td>@0N\\QPO history/release documentati@</td>\n",
              "      <td>2020-04-01</td>\n",
              "      <td>11515      CTY TNHH TU VAN DAU TU NGAY MOI</td>\n",
              "      <td>NaN</td>\n",
              "      <td>License: 6or 12 Months CAP ON(11/4-10/5)</td>\n",
              "      <td>9900</td>\n",
              "      <td>NaN</td>\n",
              "      <td>NaN</td>\n",
              "      <td>F</td>\n",
              "      <td>TW50</td>\n",
              "      <td>MAIN</td>\n",
              "      <td>1</td>\n",
              "      <td>SET</td>\n",
              "      <td>0</td>\n",
              "      <td>NaN</td>\n",
              "      <td>5400000.0</td>\n",
              "      <td>LKR</td>\n",
              "      <td>1</td>\n",
              "      <td>0</td>\n",
              "      <td>0</td>\n",
              "      <td>0</td>\n",
              "      <td>0</td>\n",
              "      <td>0</td>\n",
              "      <td>0</td>\n",
              "      <td>1</td>\n",
              "      <td>NaN</td>\n",
              "      <td>43200.0</td>\n",
              "      <td>NaN</td>\n",
              "      <td>NaN</td>\n",
              "      <td>ANP-SEV-ST2-20040002</td>\n",
              "      <td>ANPVN5020030011</td>\n",
              "      <td>NaN</td>\n",
              "    </tr>\n",
              "    <tr>\n",
              "      <th>4</th>\n",
              "      <td>FMC_PO_Ref_00005</td>\n",
              "      <td>480083703</td>\n",
              "      <td>10</td>\n",
              "      <td>I1</td>\n",
              "      <td>ZPOP</td>\n",
              "      <td>F</td>\n",
              "      <td>NT1</td>\n",
              "      <td>@0N\\QPO history/release documentati@</td>\n",
              "      <td>2020-04-07</td>\n",
              "      <td>11515      CTY TNHH TU VAN DAU TU NGAY MOI</td>\n",
              "      <td>NaN</td>\n",
              "      <td>License:Peak Design Promotion(20/4-31/5)</td>\n",
              "      <td>9900</td>\n",
              "      <td>NaN</td>\n",
              "      <td>NaN</td>\n",
              "      <td>F</td>\n",
              "      <td>TW50</td>\n",
              "      <td>MAIN</td>\n",
              "      <td>1</td>\n",
              "      <td>SET</td>\n",
              "      <td>0</td>\n",
              "      <td>NaN</td>\n",
              "      <td>5400000.0</td>\n",
              "      <td>LKR</td>\n",
              "      <td>1</td>\n",
              "      <td>0</td>\n",
              "      <td>0</td>\n",
              "      <td>0</td>\n",
              "      <td>0</td>\n",
              "      <td>0</td>\n",
              "      <td>0</td>\n",
              "      <td>1</td>\n",
              "      <td>NaN</td>\n",
              "      <td>43200.0</td>\n",
              "      <td>NaN</td>\n",
              "      <td>NaN</td>\n",
              "      <td>ANP-SEV-ST2-20040004</td>\n",
              "      <td>ANPVN5020030034</td>\n",
              "      <td>NaN</td>\n",
              "    </tr>\n",
              "  </tbody>\n",
              "</table>\n",
              "</div>"
            ],
            "text/plain": [
              "         FMC_PO_Ref  Purchasing Document  Item Tax code Purchasing Doc. Type  \\\n",
              "0  FMC_PO_Ref_00001            480083689    10       I1                 ZPOP   \n",
              "1  FMC_PO_Ref_00002            480083689    20       I1                 ZPOP   \n",
              "2  FMC_PO_Ref_00003            480083689    30       I1                 ZPOP   \n",
              "3  FMC_PO_Ref_00004            480083689    40       I1                 ZPOP   \n",
              "4  FMC_PO_Ref_00005            480083703    10       I1                 ZPOP   \n",
              "\n",
              "  Purch. Doc. Category Purchasing Group      PO history/release documentation  \\\n",
              "0                    F              NT1  @0N\\QPO history/release documentati@   \n",
              "1                    F              NT1  @0N\\QPO history/release documentati@   \n",
              "2                    F              NT1  @0N\\QPO history/release documentati@   \n",
              "3                    F              NT1  @0N\\QPO history/release documentati@   \n",
              "4                    F              NT1  @0N\\QPO history/release documentati@   \n",
              "\n",
              "  Document Date                      Vendor/supplying plant Material  \\\n",
              "0    2020-04-01  11515      CTY TNHH TU VAN DAU TU NGAY MOI      NaN   \n",
              "1    2020-04-01  11515      CTY TNHH TU VAN DAU TU NGAY MOI      NaN   \n",
              "2    2020-04-01  11515      CTY TNHH TU VAN DAU TU NGAY MOI      NaN   \n",
              "3    2020-04-01  11515      CTY TNHH TU VAN DAU TU NGAY MOI      NaN   \n",
              "4    2020-04-07  11515      CTY TNHH TU VAN DAU TU NGAY MOI      NaN   \n",
              "\n",
              "                                 Short Text  Material Group  \\\n",
              "0  License:Extend 1 YearWarranty(11/4-10/5)            9900   \n",
              "1     License: Film4K Promotion (11/4-10/5)            9900   \n",
              "2  License: 6Months Clip TV Free(11/4-10/5)            9900   \n",
              "3  License: 6or 12 Months CAP ON(11/4-10/5)            9900   \n",
              "4  License:Peak Design Promotion(20/4-31/5)            9900   \n",
              "\n",
              "  Deletion Indicator  Item Category Acct Assignment Cat. Plant  \\\n",
              "0                NaN            NaN                    F  TW50   \n",
              "1                NaN            NaN                    F  TW50   \n",
              "2                NaN            NaN                    F  TW50   \n",
              "3                NaN            NaN                    F  TW50   \n",
              "4                NaN            NaN                    F  TW50   \n",
              "\n",
              "  Storage Location  Order Quantity Order Unit  Quantity in SKU  \\\n",
              "0             MAIN               1        SET                0   \n",
              "1             MAIN               1        SET                0   \n",
              "2             MAIN               1        SET                0   \n",
              "3             MAIN               1        SET                0   \n",
              "4             MAIN               1        SET                0   \n",
              "\n",
              "  Stockkeeping unit  Net price Currency  Price Unit  Target Quantity  \\\n",
              "0               NaN  5400000.0      LKR           1                0   \n",
              "1               NaN  5400000.0      LKR           1                0   \n",
              "2               NaN  5400000.0      LKR           1                0   \n",
              "3               NaN  5400000.0      LKR           1                0   \n",
              "4               NaN  5400000.0      LKR           1                0   \n",
              "\n",
              "   Open Target Quantity  Still to be delivered (qty)  \\\n",
              "0                     0                            0   \n",
              "1                     0                            0   \n",
              "2                     0                            0   \n",
              "3                     0                            0   \n",
              "4                     0                            0   \n",
              "\n",
              "   Still to be delivered (value)  Still to be invoiced (qty)  \\\n",
              "0                              0                           0   \n",
              "1                              0                           0   \n",
              "2                              0                           0   \n",
              "3                              0                           0   \n",
              "4                              0                           0   \n",
              "\n",
              "   Still to be invoiced (val.)  No. of Positions  Unnamed: 31  Unnamed: 32  \\\n",
              "0                            0                 1          NaN      43200.0   \n",
              "1                            0                 1          NaN      43200.0   \n",
              "2                            0                 1          NaN      43200.0   \n",
              "3                            0                 1          NaN      43200.0   \n",
              "4                            0                 1          NaN      43200.0   \n",
              "\n",
              "   Unnamed: 33  Unnamed: 34            Request No     Project Code Unnamed: 37  \n",
              "0          NaN          NaN  ANP-SEV-ST2-20040002  ANPVN5020030011         NaN  \n",
              "1          NaN          NaN  ANP-SEV-ST2-20040002  ANPVN5020030011         NaN  \n",
              "2          NaN          NaN  ANP-SEV-ST2-20040002  ANPVN5020030011         NaN  \n",
              "3          NaN          NaN  ANP-SEV-ST2-20040002  ANPVN5020030011         NaN  \n",
              "4          NaN          NaN  ANP-SEV-ST2-20040004  ANPVN5020030034         NaN  "
            ]
          },
          "execution_count": 26,
          "metadata": {},
          "output_type": "execute_result"
        }
      ],
      "source": [
        "PO_Data['FMC_PO_Ref'] = [f'FMC_PO_Ref_{i:05d}' for i in range(1, PO_Data.shape[0] + 1)]\n",
        "PO_Data.insert(0, 'FMC_PO_Ref', PO_Data.pop('FMC_PO_Ref'))\n",
        "PO_Data.head"
      ]
    },
    {
      "cell_type": "code",
      "execution_count": 2,
      "id": "golden-piece",
      "metadata": {
        "collapsed": true,
        "id": "golden-piece"
      },
      "outputs": [],
      "source": [
        "# PO_Data"
      ]
    },
    {
      "cell_type": "code",
      "execution_count": 3,
      "id": "accepted-works",
      "metadata": {
        "collapsed": true,
        "id": "accepted-works"
      },
      "outputs": [],
      "source": [
        "#GR_Data"
      ]
    },
    {
      "cell_type": "code",
      "execution_count": 4,
      "id": "minor-routine",
      "metadata": {
        "collapsed": true,
        "id": "minor-routine"
      },
      "outputs": [],
      "source": [
        "#Invoice_data"
      ]
    },
    {
      "cell_type": "code",
      "execution_count": 5,
      "id": "material-income",
      "metadata": {
        "collapsed": true,
        "id": "material-income"
      },
      "outputs": [],
      "source": [
        "#Payment_Data"
      ]
    },
    {
      "cell_type": "code",
      "execution_count": 6,
      "id": "unexpected-affairs",
      "metadata": {
        "collapsed": true,
        "id": "unexpected-affairs"
      },
      "outputs": [],
      "source": [
        "#Supplier_master"
      ]
    },
    {
      "cell_type": "code",
      "execution_count": 7,
      "id": "together-marshall",
      "metadata": {
        "collapsed": true,
        "id": "together-marshall"
      },
      "outputs": [],
      "source": [
        "#Employee_Master"
      ]
    },
    {
      "cell_type": "code",
      "execution_count": 8,
      "id": "vulnerable-error",
      "metadata": {
        "collapsed": true,
        "id": "vulnerable-error"
      },
      "outputs": [],
      "source": [
        "#Vendor_Evalution"
      ]
    },
    {
      "cell_type": "code",
      "source": [
        "#TW_Holidays"
      ],
      "metadata": {
        "id": "nFpsnuhyatnh"
      },
      "id": "nFpsnuhyatnh",
      "execution_count": 1,
      "outputs": []
    },
    {
      "cell_type": "markdown",
      "id": "common-vegetable",
      "metadata": {
        "id": "common-vegetable"
      },
      "source": [
        "## Data Transformations steps\n",
        "\n",
        "---"
      ]
    },
    {
      "cell_type": "markdown",
      "id": "polyphonic-competition",
      "metadata": {
        "id": "polyphonic-competition"
      },
      "source": [
        "### Recognising date & time fields "
      ]
    },
    {
      "cell_type": "code",
      "execution_count": 9,
      "id": "dental-hypothesis",
      "metadata": {
        "collapsed": true,
        "colab": {
          "base_uri": "https://localhost:8080/",
          "height": 169
        },
        "id": "dental-hypothesis",
        "outputId": "f9eb424a-c91a-4289-d475-8ce7acf4f87e"
      },
      "outputs": [
        {
          "output_type": "error",
          "ename": "NameError",
          "evalue": "ignored",
          "traceback": [
            "\u001b[0;31m---------------------------------------------------------------------------\u001b[0m",
            "\u001b[0;31mNameError\u001b[0m                                 Traceback (most recent call last)",
            "\u001b[0;32m<ipython-input-9-d96b64e3d809>\u001b[0m in \u001b[0;36m<module>\u001b[0;34m()\u001b[0m\n\u001b[0;32m----> 1\u001b[0;31m \u001b[0mPO_Data\u001b[0m\u001b[0;34m.\u001b[0m\u001b[0minfo\u001b[0m\u001b[0;34m(\u001b[0m\u001b[0;34m)\u001b[0m\u001b[0;34m\u001b[0m\u001b[0;34m\u001b[0m\u001b[0m\n\u001b[0m",
            "\u001b[0;31mNameError\u001b[0m: name 'PO_Data' is not defined"
          ]
        }
      ],
      "source": [
        "PO_Data.info()"
      ]
    },
    {
      "cell_type": "code",
      "execution_count": 10,
      "id": "comparable-collector",
      "metadata": {
        "collapsed": true,
        "colab": {
          "base_uri": "https://localhost:8080/",
          "height": 169
        },
        "id": "comparable-collector",
        "outputId": "6a5621b9-86ed-4dcd-999d-d665a1d78ced"
      },
      "outputs": [
        {
          "output_type": "error",
          "ename": "NameError",
          "evalue": "ignored",
          "traceback": [
            "\u001b[0;31m---------------------------------------------------------------------------\u001b[0m",
            "\u001b[0;31mNameError\u001b[0m                                 Traceback (most recent call last)",
            "\u001b[0;32m<ipython-input-10-9edbc86cf035>\u001b[0m in \u001b[0;36m<module>\u001b[0;34m()\u001b[0m\n\u001b[0;32m----> 1\u001b[0;31m \u001b[0mPO_Data\u001b[0m\u001b[0;34m.\u001b[0m\u001b[0mhead\u001b[0m\u001b[0;34m(\u001b[0m\u001b[0;34m)\u001b[0m\u001b[0;34m\u001b[0m\u001b[0;34m\u001b[0m\u001b[0m\n\u001b[0m",
            "\u001b[0;31mNameError\u001b[0m: name 'PO_Data' is not defined"
          ]
        }
      ],
      "source": [
        "PO_Data.head()"
      ]
    },
    {
      "cell_type": "code",
      "execution_count": 11,
      "id": "likely-optimization",
      "metadata": {
        "collapsed": true,
        "colab": {
          "base_uri": "https://localhost:8080/",
          "height": 169
        },
        "id": "likely-optimization",
        "outputId": "3f6c51fd-9daa-45db-f96f-08b25e516771"
      },
      "outputs": [
        {
          "output_type": "error",
          "ename": "NameError",
          "evalue": "ignored",
          "traceback": [
            "\u001b[0;31m---------------------------------------------------------------------------\u001b[0m",
            "\u001b[0;31mNameError\u001b[0m                                 Traceback (most recent call last)",
            "\u001b[0;32m<ipython-input-11-40407e5e8d52>\u001b[0m in \u001b[0;36m<module>\u001b[0;34m()\u001b[0m\n\u001b[0;32m----> 1\u001b[0;31m \u001b[0mPO_Data\u001b[0m\u001b[0;34m[\u001b[0m\u001b[0;34m'Document Date'\u001b[0m\u001b[0;34m]\u001b[0m \u001b[0;34m=\u001b[0m \u001b[0mpd\u001b[0m\u001b[0;34m.\u001b[0m\u001b[0mto_datetime\u001b[0m\u001b[0;34m(\u001b[0m\u001b[0mPO_Data\u001b[0m\u001b[0;34m[\u001b[0m\u001b[0;34m'Document Date'\u001b[0m\u001b[0;34m]\u001b[0m\u001b[0;34m,\u001b[0m \u001b[0mformat\u001b[0m\u001b[0;34m=\u001b[0m\u001b[0;34m'%Y/%m/%d %H:%M:%S'\u001b[0m\u001b[0;34m)\u001b[0m\u001b[0;34m\u001b[0m\u001b[0;34m\u001b[0m\u001b[0m\n\u001b[0m",
            "\u001b[0;31mNameError\u001b[0m: name 'pd' is not defined"
          ]
        }
      ],
      "source": [
        "PO_Data['Document Date'] = pd.to_datetime(PO_Data['Document Date'], format='%Y/%m/%d %H:%M:%S')"
      ]
    },
    {
      "cell_type": "code",
      "execution_count": null,
      "id": "shared-invite",
      "metadata": {
        "id": "shared-invite"
      },
      "outputs": [],
      "source": [
        "PR_data.info()"
      ]
    },
    {
      "cell_type": "code",
      "execution_count": null,
      "id": "mathematical-glass",
      "metadata": {
        "collapsed": true,
        "id": "mathematical-glass"
      },
      "outputs": [],
      "source": [
        ""
      ]
    },
    {
      "cell_type": "code",
      "execution_count": null,
      "id": "quick-brake",
      "metadata": {
        "collapsed": true,
        "id": "quick-brake"
      },
      "outputs": [],
      "source": [
        "df2['created_date'] = pd.to_datetime(pd.to_datetime(((df2['created_date']).str[:])).dt.strftime('%d-%m-%Y'))"
      ]
    },
    {
      "cell_type": "code",
      "execution_count": null,
      "id": "superb-symposium",
      "metadata": {
        "collapsed": true,
        "id": "superb-symposium"
      },
      "outputs": [],
      "source": [
        ""
      ]
    },
    {
      "cell_type": "code",
      "execution_count": null,
      "id": "abroad-olympus",
      "metadata": {
        "collapsed": true,
        "id": "abroad-olympus"
      },
      "outputs": [],
      "source": [
        ""
      ]
    },
    {
      "cell_type": "markdown",
      "id": "rubber-guest",
      "metadata": {
        "id": "rubber-guest"
      },
      "source": [
        "### Change the number formats"
      ]
    },
    {
      "cell_type": "code",
      "execution_count": null,
      "id": "unique-doubt",
      "metadata": {
        "collapsed": true,
        "id": "unique-doubt"
      },
      "outputs": [],
      "source": [
        ""
      ]
    },
    {
      "cell_type": "code",
      "execution_count": null,
      "id": "interracial-snowboard",
      "metadata": {
        "collapsed": true,
        "id": "interracial-snowboard"
      },
      "outputs": [],
      "source": [
        ""
      ]
    },
    {
      "cell_type": "code",
      "execution_count": null,
      "id": "varying-dimension",
      "metadata": {
        "collapsed": true,
        "id": "varying-dimension"
      },
      "outputs": [],
      "source": [
        ""
      ]
    },
    {
      "cell_type": "code",
      "execution_count": null,
      "id": "rough-bread",
      "metadata": {
        "collapsed": true,
        "id": "rough-bread"
      },
      "outputs": [],
      "source": [
        ""
      ]
    },
    {
      "cell_type": "markdown",
      "source": [
        "## Data Combining/ Merging / Maping\n",
        "---\n",
        "What is Data Mapping?\n",
        "### The process of matching fields from multiple datasets into a schema, or centralized database, is known as data mapping. To transfer, ingest, process, and manage data, data mapping is required. Data mapping’s ultimate purpose is to combine multiple data sets into a single one."
      ],
      "metadata": {
        "id": "cRikJtmPa453"
      },
      "id": "cRikJtmPa453"
    },
    {
      "cell_type": "code",
      "source": [
        ""
      ],
      "metadata": {
        "id": "UruN3dJSa4Yv"
      },
      "id": "UruN3dJSa4Yv",
      "execution_count": null,
      "outputs": []
    },
    {
      "cell_type": "code",
      "execution_count": null,
      "id": "corporate-bradley",
      "metadata": {
        "collapsed": true,
        "id": "corporate-bradley"
      },
      "outputs": [],
      "source": [
        ""
      ]
    },
    {
      "cell_type": "code",
      "execution_count": null,
      "id": "diagnostic-mistress",
      "metadata": {
        "collapsed": true,
        "id": "diagnostic-mistress"
      },
      "outputs": [],
      "source": [
        ""
      ]
    },
    {
      "cell_type": "code",
      "source": [
        ""
      ],
      "metadata": {
        "id": "_r4cxPFxavAQ"
      },
      "id": "_r4cxPFxavAQ",
      "execution_count": null,
      "outputs": []
    },
    {
      "cell_type": "code",
      "source": [
        ""
      ],
      "metadata": {
        "id": "nIQ2HqF8a24n"
      },
      "id": "nIQ2HqF8a24n",
      "execution_count": 1,
      "outputs": []
    },
    {
      "cell_type": "markdown",
      "source": [
        "## Rule Based Analysis\n",
        "\n",
        "---"
      ],
      "metadata": {
        "id": "nzXzRrSycKnO"
      },
      "id": "nzXzRrSycKnO"
    },
    {
      "cell_type": "markdown",
      "source": [
        ""
      ],
      "metadata": {
        "id": "9wmuPLDyckM3"
      },
      "id": "9wmuPLDyckM3"
    },
    {
      "cell_type": "code",
      "source": [
        ""
      ],
      "metadata": {
        "id": "51T5vW0ach8W"
      },
      "id": "51T5vW0ach8W",
      "execution_count": null,
      "outputs": []
    },
    {
      "cell_type": "code",
      "source": [
        ""
      ],
      "metadata": {
        "id": "6rr_SbNMch0J"
      },
      "id": "6rr_SbNMch0J",
      "execution_count": null,
      "outputs": []
    },
    {
      "cell_type": "code",
      "source": [
        ""
      ],
      "metadata": {
        "id": "sTgwcgjpchrG"
      },
      "id": "sTgwcgjpchrG",
      "execution_count": null,
      "outputs": []
    },
    {
      "cell_type": "code",
      "source": [
        ""
      ],
      "metadata": {
        "id": "jnoeoL3Ychgv"
      },
      "id": "jnoeoL3Ychgv",
      "execution_count": null,
      "outputs": []
    },
    {
      "cell_type": "code",
      "source": [
        ""
      ],
      "metadata": {
        "id": "muo5LEhudCvs"
      },
      "id": "muo5LEhudCvs",
      "execution_count": null,
      "outputs": []
    },
    {
      "cell_type": "code",
      "source": [
        ""
      ],
      "metadata": {
        "id": "5hc8WE10dCs1"
      },
      "id": "5hc8WE10dCs1",
      "execution_count": null,
      "outputs": []
    },
    {
      "cell_type": "markdown",
      "source": [
        "## Visualise the results / Export the output data in to Excel\n",
        "\n",
        "---"
      ],
      "metadata": {
        "id": "ZKsg6T_vdOzZ"
      },
      "id": "ZKsg6T_vdOzZ"
    },
    {
      "cell_type": "code",
      "source": [
        ""
      ],
      "metadata": {
        "id": "SaLivt7rdCp8"
      },
      "id": "SaLivt7rdCp8",
      "execution_count": null,
      "outputs": []
    },
    {
      "cell_type": "code",
      "source": [
        ""
      ],
      "metadata": {
        "id": "g5YfLktSdCm4"
      },
      "id": "g5YfLktSdCm4",
      "execution_count": null,
      "outputs": []
    },
    {
      "cell_type": "code",
      "source": [
        ""
      ],
      "metadata": {
        "id": "36a_Rb2zdCjw"
      },
      "id": "36a_Rb2zdCjw",
      "execution_count": null,
      "outputs": []
    },
    {
      "cell_type": "code",
      "source": [
        ""
      ],
      "metadata": {
        "id": "c4rII6tSdCg2"
      },
      "id": "c4rII6tSdCg2",
      "execution_count": null,
      "outputs": []
    },
    {
      "cell_type": "code",
      "source": [
        ""
      ],
      "metadata": {
        "id": "EIBnK3tudCdn"
      },
      "id": "EIBnK3tudCdn",
      "execution_count": null,
      "outputs": []
    },
    {
      "cell_type": "code",
      "source": [
        ""
      ],
      "metadata": {
        "id": "-_OfpaM7dCNJ"
      },
      "id": "-_OfpaM7dCNJ",
      "execution_count": null,
      "outputs": []
    },
    {
      "cell_type": "markdown",
      "source": [
        "## Apply a machine learning techniques\n",
        "\n",
        "---"
      ],
      "metadata": {
        "id": "zjnyzRDCe-wH"
      },
      "id": "zjnyzRDCe-wH"
    },
    {
      "cell_type": "code",
      "source": [
        ""
      ],
      "metadata": {
        "id": "Y1hKa9a6fQC6"
      },
      "id": "Y1hKa9a6fQC6",
      "execution_count": null,
      "outputs": []
    },
    {
      "cell_type": "code",
      "source": [
        ""
      ],
      "metadata": {
        "id": "ZC1YpGilfScN"
      },
      "id": "ZC1YpGilfScN",
      "execution_count": null,
      "outputs": []
    },
    {
      "cell_type": "code",
      "source": [
        ""
      ],
      "metadata": {
        "id": "5R1WNSmXfSUs"
      },
      "id": "5R1WNSmXfSUs",
      "execution_count": null,
      "outputs": []
    },
    {
      "cell_type": "code",
      "source": [
        ""
      ],
      "metadata": {
        "id": "DAvHwM4dfSNp"
      },
      "id": "DAvHwM4dfSNp",
      "execution_count": null,
      "outputs": []
    },
    {
      "cell_type": "code",
      "source": [
        ""
      ],
      "metadata": {
        "id": "iKJo37JZfSF2"
      },
      "id": "iKJo37JZfSF2",
      "execution_count": null,
      "outputs": []
    },
    {
      "cell_type": "code",
      "source": [
        ""
      ],
      "metadata": {
        "id": "86z8_LksfR89"
      },
      "id": "86z8_LksfR89",
      "execution_count": null,
      "outputs": []
    }
  ],
  "metadata": {
    "kernelspec": {
      "display_name": "Python 3",
      "language": "python",
      "name": "python3"
    },
    "language_info": {
      "codemirror_mode": {
        "name": "ipython",
        "version": 3
      },
      "file_extension": ".py",
      "mimetype": "text/x-python",
      "name": "python",
      "nbconvert_exporter": "python",
      "pygments_lexer": "ipython3",
      "version": "3.8.5"
    },
    "colab": {
      "name": "CIMA_FDA_Session_June_v01.ipynb",
      "provenance": []
    }
  },
  "nbformat": 4,
  "nbformat_minor": 5
}