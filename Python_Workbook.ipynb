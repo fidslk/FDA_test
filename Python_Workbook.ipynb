{
  "nbformat": 4,
  "nbformat_minor": 0,
  "metadata": {
    "colab": {
      "name": "Python_Workbook.ipynb",
      "provenance": [],
      "include_colab_link": true
    },
    "kernelspec": {
      "name": "python3",
      "display_name": "Python 3"
    },
    "language_info": {
      "name": "python"
    }
  },
  "cells": [
    {
      "cell_type": "markdown",
      "metadata": {
        "id": "view-in-github",
        "colab_type": "text"
      },
      "source": [
        "<a href=\"https://colab.research.google.com/github/fidslk/FDA_test/blob/main/Python_Workbook.ipynb\" target=\"_parent\"><img src=\"https://colab.research.google.com/assets/colab-badge.svg\" alt=\"Open In Colab\"/></a>"
      ]
    },
    {
      "cell_type": "markdown",
      "source": [
        "It is the best practise to Import the required libraries at the begining"
      ],
      "metadata": {
        "id": "KyR-uvMB8asq"
      }
    },
    {
      "cell_type": "code",
      "execution_count": 4,
      "metadata": {
        "id": "14jWcrwW4WSV"
      },
      "outputs": [],
      "source": [
        "# Libraries that may usefull\n",
        "import pandas as pd\n",
        "from pandas import ExcelWriter\n",
        "import numpy as np\n",
        "from copy import deepcopy\n",
        "import math\n",
        "from time import time\n",
        "import datetime\n",
        "import re"
      ]
    },
    {
      "cell_type": "code",
      "source": [
        "\n",
        "\n",
        "# Load data from excel file\n",
        "file = pd.read_excel(r\"https://github.com/fidslk/FDA_test/blob/main/Datasets/Case_one_Dataset.xlsx\", sheet_name=\"Sheet1\", skiprows=0, parse_dates=[\"DATE1\",\"Date2\"],dtype={ \"StringColumn\":'str'})\n"
      ],
      "metadata": {
        "colab": {
          "base_uri": "https://localhost:8080/",
          "height": 131
        },
        "id": "qG_kBOct8pT_",
        "outputId": "453f368d-5342-4d01-99c4-f053268ba8d7"
      },
      "execution_count": 2,
      "outputs": [
        {
          "output_type": "error",
          "ename": "SyntaxError",
          "evalue": "ignored",
          "traceback": [
            "\u001b[0;36m  File \u001b[0;32m\"<ipython-input-2-08612804d02d>\"\u001b[0;36m, line \u001b[0;32m2\u001b[0m\n\u001b[0;31m    https://github.com/fidslk/FDA_test/blob/main/Datasets/Case_one_Dataset.xlsx\u001b[0m\n\u001b[0m           ^\u001b[0m\n\u001b[0;31mSyntaxError\u001b[0m\u001b[0;31m:\u001b[0m invalid syntax\n"
          ]
        }
      ]
    },
    {
      "cell_type": "code",
      "source": [
        ""
      ],
      "metadata": {
        "id": "T2D0qowa-lGp"
      },
      "execution_count": null,
      "outputs": []
    }
  ]
}