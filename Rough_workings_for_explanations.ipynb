{
  "cells": [
    {
      "cell_type": "markdown",
      "metadata": {
        "id": "view-in-github",
        "colab_type": "text"
      },
      "source": [
        "<a href=\"https://colab.research.google.com/github/fidslk/FDA_test/blob/main/Rough_workings_for_explanations.ipynb\" target=\"_parent\"><img src=\"https://colab.research.google.com/assets/colab-badge.svg\" alt=\"Open In Colab\"/></a>"
      ]
    },
    {
      "cell_type": "markdown",
      "id": "sustainable-separate",
      "metadata": {
        "id": "sustainable-separate"
      },
      "source": [
        ""
      ]
    },
    {
      "cell_type": "code",
      "execution_count": null,
      "id": "educated-giant",
      "metadata": {
        "id": "educated-giant"
      },
      "outputs": [],
      "source": [
        "import pandas as pd"
      ]
    },
    {
      "cell_type": "code",
      "execution_count": null,
      "id": "intensive-catering",
      "metadata": {
        "id": "intensive-catering"
      },
      "outputs": [],
      "source": [
        "df2 = pd.DataFrame({'name':['John', 'John', 'John', 'Tom', 'Sim', 'Sim'],\n",
        "                    'store_label':['John', 'John', 'John', 'Tom', 'Tom', 'Tom'],\n",
        "                    'created_date':['01/02/2021  05:37:22','21/02/2021  05:38:06','21/02/2021  05:38:50','21/02/2021  06:35:25','22/02/2021  13:03:05','22/02/2021  13:05:05'],\n",
        "                   'created_date2':['01.02.2021  05:37:22','21.02.2021  05:38:06','21.02.2021  05:38:50','21.02.2021  06:35:25','22.02.2021  13:03:05','22.02.2021  13:05:05']})\n"
      ]
    },
    {
      "cell_type": "code",
      "execution_count": null,
      "id": "strange-responsibility",
      "metadata": {
        "id": "strange-responsibility",
        "outputId": "a77c11f8-7dcf-42bd-ba2e-f3e67f41f12d"
      },
      "outputs": [
        {
          "data": {
            "text/html": [
              "<div>\n",
              "<style scoped>\n",
              "    .dataframe tbody tr th:only-of-type {\n",
              "        vertical-align: middle;\n",
              "    }\n",
              "\n",
              "    .dataframe tbody tr th {\n",
              "        vertical-align: top;\n",
              "    }\n",
              "\n",
              "    .dataframe thead th {\n",
              "        text-align: right;\n",
              "    }\n",
              "</style>\n",
              "<table border=\"1\" class=\"dataframe\">\n",
              "  <thead>\n",
              "    <tr style=\"text-align: right;\">\n",
              "      <th></th>\n",
              "      <th>name</th>\n",
              "      <th>store_label</th>\n",
              "      <th>created_date</th>\n",
              "      <th>created_date2</th>\n",
              "    </tr>\n",
              "  </thead>\n",
              "  <tbody>\n",
              "    <tr>\n",
              "      <th>0</th>\n",
              "      <td>John</td>\n",
              "      <td>John</td>\n",
              "      <td>01/02/2021  05:37:22</td>\n",
              "      <td>01.02.2021  05:37:22</td>\n",
              "    </tr>\n",
              "    <tr>\n",
              "      <th>1</th>\n",
              "      <td>John</td>\n",
              "      <td>John</td>\n",
              "      <td>21/02/2021  05:38:06</td>\n",
              "      <td>21.02.2021  05:38:06</td>\n",
              "    </tr>\n",
              "    <tr>\n",
              "      <th>2</th>\n",
              "      <td>John</td>\n",
              "      <td>John</td>\n",
              "      <td>21/02/2021  05:38:50</td>\n",
              "      <td>21.02.2021  05:38:50</td>\n",
              "    </tr>\n",
              "    <tr>\n",
              "      <th>3</th>\n",
              "      <td>Tom</td>\n",
              "      <td>Tom</td>\n",
              "      <td>21/02/2021  06:35:25</td>\n",
              "      <td>21.02.2021  06:35:25</td>\n",
              "    </tr>\n",
              "    <tr>\n",
              "      <th>4</th>\n",
              "      <td>Som</td>\n",
              "      <td>Tom</td>\n",
              "      <td>22/02/2021  13:03:05</td>\n",
              "      <td>22.02.2021  13:03:05</td>\n",
              "    </tr>\n",
              "    <tr>\n",
              "      <th>5</th>\n",
              "      <td>Som</td>\n",
              "      <td>Tom</td>\n",
              "      <td>22/02/2021  13:05:05</td>\n",
              "      <td>22.02.2021  13:05:05</td>\n",
              "    </tr>\n",
              "  </tbody>\n",
              "</table>\n",
              "</div>"
            ],
            "text/plain": [
              "   name store_label          created_date         created_date2\n",
              "0  John        John  01/02/2021  05:37:22  01.02.2021  05:37:22\n",
              "1  John        John  21/02/2021  05:38:06  21.02.2021  05:38:06\n",
              "2  John        John  21/02/2021  05:38:50  21.02.2021  05:38:50\n",
              "3   Tom         Tom  21/02/2021  06:35:25  21.02.2021  06:35:25\n",
              "4   Som         Tom  22/02/2021  13:03:05  22.02.2021  13:03:05\n",
              "5   Som         Tom  22/02/2021  13:05:05  22.02.2021  13:05:05"
            ]
          },
          "execution_count": 69,
          "metadata": {},
          "output_type": "execute_result"
        }
      ],
      "source": [
        "df2"
      ]
    },
    {
      "cell_type": "markdown",
      "id": "handed-challenge",
      "metadata": {
        "id": "handed-challenge"
      },
      "source": [
        "### Adding a unique reference column"
      ]
    },
    {
      "cell_type": "code",
      "execution_count": null,
      "id": "oriental-covering",
      "metadata": {
        "id": "oriental-covering"
      },
      "outputs": [],
      "source": [
        "df2[\"My_Ref\"] = \"some thing\""
      ]
    },
    {
      "cell_type": "code",
      "execution_count": null,
      "id": "julian-surveillance",
      "metadata": {
        "id": "julian-surveillance"
      },
      "outputs": [],
      "source": [
        "df2= df2[[ 'My_Ref','name', 'store_label', 'created_date']]"
      ]
    },
    {
      "cell_type": "code",
      "execution_count": null,
      "id": "duplicate-anchor",
      "metadata": {
        "id": "duplicate-anchor",
        "outputId": "d84abc97-8ead-49a7-88aa-db3a543f5168"
      },
      "outputs": [
        {
          "name": "stdout",
          "output_type": "stream",
          "text": [
            "<class 'pandas.core.frame.DataFrame'>\n",
            "RangeIndex: 6 entries, 0 to 5\n",
            "Data columns (total 5 columns):\n",
            " #   Column        Non-Null Count  Dtype \n",
            "---  ------        --------------  ----- \n",
            " 0   My_Ref        6 non-null      int64 \n",
            " 1   My_Ref2       6 non-null      object\n",
            " 2   name          6 non-null      object\n",
            " 3   store_label   6 non-null      object\n",
            " 4   created_date  6 non-null      object\n",
            "dtypes: int64(1), object(4)\n",
            "memory usage: 368.0+ bytes\n"
          ]
        }
      ],
      "source": [
        "df2.info()"
      ]
    },
    {
      "cell_type": "code",
      "execution_count": null,
      "id": "asian-handbook",
      "metadata": {
        "id": "asian-handbook"
      },
      "outputs": [],
      "source": [
        "del df2['My_Ref']"
      ]
    },
    {
      "cell_type": "code",
      "execution_count": null,
      "id": "raised-marathon",
      "metadata": {
        "id": "raised-marathon"
      },
      "outputs": [],
      "source": [
        "df2 = df2.reset_index(drop=True)\n",
        "df2 = df2.rename_axis('My_Ref').reset_index()"
      ]
    },
    {
      "cell_type": "code",
      "execution_count": null,
      "id": "southern-harvest",
      "metadata": {
        "id": "southern-harvest",
        "outputId": "151f7418-44e7-4bb4-b7d9-00f14e0230f0"
      },
      "outputs": [
        {
          "data": {
            "text/html": [
              "<div>\n",
              "<style scoped>\n",
              "    .dataframe tbody tr th:only-of-type {\n",
              "        vertical-align: middle;\n",
              "    }\n",
              "\n",
              "    .dataframe tbody tr th {\n",
              "        vertical-align: top;\n",
              "    }\n",
              "\n",
              "    .dataframe thead th {\n",
              "        text-align: right;\n",
              "    }\n",
              "</style>\n",
              "<table border=\"1\" class=\"dataframe\">\n",
              "  <thead>\n",
              "    <tr style=\"text-align: right;\">\n",
              "      <th></th>\n",
              "      <th>My_Ref</th>\n",
              "      <th>name</th>\n",
              "      <th>store_label</th>\n",
              "      <th>created_date</th>\n",
              "    </tr>\n",
              "  </thead>\n",
              "  <tbody>\n",
              "    <tr>\n",
              "      <th>0</th>\n",
              "      <td>0</td>\n",
              "      <td>John</td>\n",
              "      <td>John</td>\n",
              "      <td>21/02/2021  05:37:22</td>\n",
              "    </tr>\n",
              "    <tr>\n",
              "      <th>1</th>\n",
              "      <td>1</td>\n",
              "      <td>John</td>\n",
              "      <td>John</td>\n",
              "      <td>21/02/2021  05:38:06</td>\n",
              "    </tr>\n",
              "    <tr>\n",
              "      <th>2</th>\n",
              "      <td>2</td>\n",
              "      <td>John</td>\n",
              "      <td>John</td>\n",
              "      <td>21/02/2021  05:38:50</td>\n",
              "    </tr>\n",
              "    <tr>\n",
              "      <th>3</th>\n",
              "      <td>3</td>\n",
              "      <td>Tom</td>\n",
              "      <td>Tom</td>\n",
              "      <td>21/02/2021  06:35:25</td>\n",
              "    </tr>\n",
              "    <tr>\n",
              "      <th>4</th>\n",
              "      <td>4</td>\n",
              "      <td>Som</td>\n",
              "      <td>Tom</td>\n",
              "      <td>22/02/2021  13:03:05</td>\n",
              "    </tr>\n",
              "    <tr>\n",
              "      <th>5</th>\n",
              "      <td>5</td>\n",
              "      <td>Som</td>\n",
              "      <td>Tom</td>\n",
              "      <td>22/02/2021  13:05:05</td>\n",
              "    </tr>\n",
              "  </tbody>\n",
              "</table>\n",
              "</div>"
            ],
            "text/plain": [
              "   My_Ref  name store_label          created_date\n",
              "0       0  John        John  21/02/2021  05:37:22\n",
              "1       1  John        John  21/02/2021  05:38:06\n",
              "2       2  John        John  21/02/2021  05:38:50\n",
              "3       3   Tom         Tom  21/02/2021  06:35:25\n",
              "4       4   Som         Tom  22/02/2021  13:03:05\n",
              "5       5   Som         Tom  22/02/2021  13:05:05"
            ]
          },
          "execution_count": 12,
          "metadata": {},
          "output_type": "execute_result"
        }
      ],
      "source": [
        "df2"
      ]
    },
    {
      "cell_type": "code",
      "execution_count": null,
      "id": "divided-kingston",
      "metadata": {
        "id": "divided-kingston",
        "outputId": "16c3afaf-14d7-42df-98d9-bc9e8afc197a"
      },
      "outputs": [
        {
          "name": "stdout",
          "output_type": "stream",
          "text": [
            "1\n",
            "2\n",
            "3\n",
            "4\n",
            "5\n",
            "6\n"
          ]
        }
      ],
      "source": [
        "for i in range(1,7):\n",
        "    print(i)"
      ]
    },
    {
      "cell_type": "code",
      "execution_count": null,
      "id": "rough-reproduction",
      "metadata": {
        "id": "rough-reproduction",
        "outputId": "7ece5a35-a65e-4f7c-993f-c47b51adb99a"
      },
      "outputs": [
        {
          "data": {
            "text/plain": [
              "7"
            ]
          },
          "execution_count": 19,
          "metadata": {},
          "output_type": "execute_result"
        }
      ],
      "source": [
        "df2.shape[0]+1\n"
      ]
    },
    {
      "cell_type": "code",
      "execution_count": null,
      "id": "fallen-giant",
      "metadata": {
        "id": "fallen-giant",
        "outputId": "ec0e8304-1ee2-4861-cb3e-ab638342414e"
      },
      "outputs": [
        {
          "name": "stdout",
          "output_type": "stream",
          "text": [
            "My_Ref_0001\n",
            "My_Ref_0002\n",
            "My_Ref_0003\n",
            "My_Ref_0004\n",
            "My_Ref_0005\n",
            "My_Ref_0006\n"
          ]
        }
      ],
      "source": [
        "for i in range(1,df2.shape[0]+1):\n",
        "    #print(i)\n",
        "    print(f'My_Ref_{i:04d}')"
      ]
    },
    {
      "cell_type": "code",
      "execution_count": null,
      "id": "ignored-entertainment",
      "metadata": {
        "id": "ignored-entertainment",
        "outputId": "943a552b-8362-4392-8ed5-e67cc832cc07"
      },
      "outputs": [
        {
          "name": "stdout",
          "output_type": "stream",
          "text": [
            "['My_ref_0001', 'My_ref_0002', 'My_ref_0003', 'My_ref_0004', 'My_ref_0005', 'My_ref_0006']\n"
          ]
        }
      ],
      "source": [
        "print([f'My_ref_{i:04d}' for i in range(1,df2.shape[0]+1)])"
      ]
    },
    {
      "cell_type": "code",
      "execution_count": null,
      "id": "extraordinary-elevation",
      "metadata": {
        "id": "extraordinary-elevation"
      },
      "outputs": [],
      "source": [
        "df2[\"My_Ref2\"] =[f'My_ref_{i:04d}' for i in range(1,df2.shape[0]+1)]"
      ]
    },
    {
      "cell_type": "code",
      "execution_count": null,
      "id": "resistant-charger",
      "metadata": {
        "id": "resistant-charger",
        "outputId": "3db2d44c-084b-47c4-d1c5-e2a4b50c1a6d"
      },
      "outputs": [
        {
          "data": {
            "text/html": [
              "<div>\n",
              "<style scoped>\n",
              "    .dataframe tbody tr th:only-of-type {\n",
              "        vertical-align: middle;\n",
              "    }\n",
              "\n",
              "    .dataframe tbody tr th {\n",
              "        vertical-align: top;\n",
              "    }\n",
              "\n",
              "    .dataframe thead th {\n",
              "        text-align: right;\n",
              "    }\n",
              "</style>\n",
              "<table border=\"1\" class=\"dataframe\">\n",
              "  <thead>\n",
              "    <tr style=\"text-align: right;\">\n",
              "      <th></th>\n",
              "      <th>My_Ref</th>\n",
              "      <th>My_Ref2</th>\n",
              "      <th>name</th>\n",
              "      <th>store_label</th>\n",
              "      <th>created_date</th>\n",
              "    </tr>\n",
              "  </thead>\n",
              "  <tbody>\n",
              "    <tr>\n",
              "      <th>0</th>\n",
              "      <td>0</td>\n",
              "      <td>My_ref_0001</td>\n",
              "      <td>John</td>\n",
              "      <td>John</td>\n",
              "      <td>21/02/2021  05:37:22</td>\n",
              "    </tr>\n",
              "    <tr>\n",
              "      <th>1</th>\n",
              "      <td>1</td>\n",
              "      <td>My_ref_0002</td>\n",
              "      <td>John</td>\n",
              "      <td>John</td>\n",
              "      <td>21/02/2021  05:38:06</td>\n",
              "    </tr>\n",
              "    <tr>\n",
              "      <th>2</th>\n",
              "      <td>2</td>\n",
              "      <td>My_ref_0003</td>\n",
              "      <td>John</td>\n",
              "      <td>John</td>\n",
              "      <td>21/02/2021  05:38:50</td>\n",
              "    </tr>\n",
              "    <tr>\n",
              "      <th>3</th>\n",
              "      <td>3</td>\n",
              "      <td>My_ref_0004</td>\n",
              "      <td>Tom</td>\n",
              "      <td>Tom</td>\n",
              "      <td>21/02/2021  06:35:25</td>\n",
              "    </tr>\n",
              "    <tr>\n",
              "      <th>4</th>\n",
              "      <td>4</td>\n",
              "      <td>My_ref_0005</td>\n",
              "      <td>Som</td>\n",
              "      <td>Tom</td>\n",
              "      <td>22/02/2021  13:03:05</td>\n",
              "    </tr>\n",
              "    <tr>\n",
              "      <th>5</th>\n",
              "      <td>5</td>\n",
              "      <td>My_ref_0006</td>\n",
              "      <td>Som</td>\n",
              "      <td>Tom</td>\n",
              "      <td>22/02/2021  13:05:05</td>\n",
              "    </tr>\n",
              "  </tbody>\n",
              "</table>\n",
              "</div>"
            ],
            "text/plain": [
              "   My_Ref      My_Ref2  name store_label          created_date\n",
              "0       0  My_ref_0001  John        John  21/02/2021  05:37:22\n",
              "1       1  My_ref_0002  John        John  21/02/2021  05:38:06\n",
              "2       2  My_ref_0003  John        John  21/02/2021  05:38:50\n",
              "3       3  My_ref_0004   Tom         Tom  21/02/2021  06:35:25\n",
              "4       4  My_ref_0005   Som         Tom  22/02/2021  13:03:05\n",
              "5       5  My_ref_0006   Som         Tom  22/02/2021  13:05:05"
            ]
          },
          "execution_count": 35,
          "metadata": {},
          "output_type": "execute_result"
        }
      ],
      "source": [
        "df2= df2[[ 'My_Ref','My_Ref2','name', 'store_label', 'created_date']]\n",
        "df2"
      ]
    },
    {
      "cell_type": "code",
      "execution_count": null,
      "id": "figured-egypt",
      "metadata": {
        "id": "figured-egypt"
      },
      "outputs": [],
      "source": [
        "df2.insert(1, 'My_Ref2', df2.pop('My_Ref2'))"
      ]
    },
    {
      "cell_type": "code",
      "execution_count": null,
      "id": "motivated-culture",
      "metadata": {
        "scrolled": true,
        "id": "motivated-culture",
        "outputId": "73ff762d-2a7d-48ee-8d06-999dae73be27"
      },
      "outputs": [
        {
          "data": {
            "text/html": [
              "<div>\n",
              "<style scoped>\n",
              "    .dataframe tbody tr th:only-of-type {\n",
              "        vertical-align: middle;\n",
              "    }\n",
              "\n",
              "    .dataframe tbody tr th {\n",
              "        vertical-align: top;\n",
              "    }\n",
              "\n",
              "    .dataframe thead th {\n",
              "        text-align: right;\n",
              "    }\n",
              "</style>\n",
              "<table border=\"1\" class=\"dataframe\">\n",
              "  <thead>\n",
              "    <tr style=\"text-align: right;\">\n",
              "      <th></th>\n",
              "      <th>My_Ref</th>\n",
              "      <th>My_Ref2</th>\n",
              "      <th>name</th>\n",
              "      <th>store_label</th>\n",
              "      <th>created_date</th>\n",
              "    </tr>\n",
              "  </thead>\n",
              "  <tbody>\n",
              "    <tr>\n",
              "      <th>0</th>\n",
              "      <td>0</td>\n",
              "      <td>My_ref_0001</td>\n",
              "      <td>John</td>\n",
              "      <td>John</td>\n",
              "      <td>21/02/2021  05:37:22</td>\n",
              "    </tr>\n",
              "    <tr>\n",
              "      <th>1</th>\n",
              "      <td>1</td>\n",
              "      <td>My_ref_0002</td>\n",
              "      <td>John</td>\n",
              "      <td>John</td>\n",
              "      <td>21/02/2021  05:38:06</td>\n",
              "    </tr>\n",
              "    <tr>\n",
              "      <th>2</th>\n",
              "      <td>2</td>\n",
              "      <td>My_ref_0003</td>\n",
              "      <td>John</td>\n",
              "      <td>John</td>\n",
              "      <td>21/02/2021  05:38:50</td>\n",
              "    </tr>\n",
              "    <tr>\n",
              "      <th>3</th>\n",
              "      <td>3</td>\n",
              "      <td>My_ref_0004</td>\n",
              "      <td>Tom</td>\n",
              "      <td>Tom</td>\n",
              "      <td>21/02/2021  06:35:25</td>\n",
              "    </tr>\n",
              "    <tr>\n",
              "      <th>4</th>\n",
              "      <td>4</td>\n",
              "      <td>My_ref_0005</td>\n",
              "      <td>Som</td>\n",
              "      <td>Tom</td>\n",
              "      <td>22/02/2021  13:03:05</td>\n",
              "    </tr>\n",
              "    <tr>\n",
              "      <th>5</th>\n",
              "      <td>5</td>\n",
              "      <td>My_ref_0006</td>\n",
              "      <td>Som</td>\n",
              "      <td>Tom</td>\n",
              "      <td>22/02/2021  13:05:05</td>\n",
              "    </tr>\n",
              "  </tbody>\n",
              "</table>\n",
              "</div>"
            ],
            "text/plain": [
              "   My_Ref      My_Ref2  name store_label          created_date\n",
              "0       0  My_ref_0001  John        John  21/02/2021  05:37:22\n",
              "1       1  My_ref_0002  John        John  21/02/2021  05:38:06\n",
              "2       2  My_ref_0003  John        John  21/02/2021  05:38:50\n",
              "3       3  My_ref_0004   Tom         Tom  21/02/2021  06:35:25\n",
              "4       4  My_ref_0005   Som         Tom  22/02/2021  13:03:05\n",
              "5       5  My_ref_0006   Som         Tom  22/02/2021  13:05:05"
            ]
          },
          "execution_count": 39,
          "metadata": {},
          "output_type": "execute_result"
        }
      ],
      "source": [
        "df2\n"
      ]
    },
    {
      "cell_type": "code",
      "execution_count": null,
      "id": "gothic-franklin",
      "metadata": {
        "id": "gothic-franklin"
      },
      "outputs": [],
      "source": [
        ""
      ]
    },
    {
      "cell_type": "code",
      "execution_count": null,
      "id": "athletic-moderator",
      "metadata": {
        "id": "athletic-moderator"
      },
      "outputs": [],
      "source": [
        ""
      ]
    },
    {
      "cell_type": "markdown",
      "id": "sustained-measurement",
      "metadata": {
        "id": "sustained-measurement"
      },
      "source": [
        "### Change a date in a string format into a datetime format"
      ]
    },
    {
      "cell_type": "code",
      "execution_count": null,
      "id": "trained-netscape",
      "metadata": {
        "id": "trained-netscape"
      },
      "outputs": [],
      "source": [
        "df2['created_date'] = pd.to_datetime(df2['created_date'])"
      ]
    },
    {
      "cell_type": "code",
      "execution_count": null,
      "id": "wireless-arbitration",
      "metadata": {
        "id": "wireless-arbitration",
        "outputId": "b78f4de8-7f01-4ffa-ba8c-42e4f7494235"
      },
      "outputs": [
        {
          "name": "stdout",
          "output_type": "stream",
          "text": [
            "<class 'pandas.core.frame.DataFrame'>\n",
            "RangeIndex: 6 entries, 0 to 5\n",
            "Data columns (total 4 columns):\n",
            " #   Column         Non-Null Count  Dtype         \n",
            "---  ------         --------------  -----         \n",
            " 0   name           6 non-null      object        \n",
            " 1   store_label    6 non-null      object        \n",
            " 2   created_date   6 non-null      datetime64[ns]\n",
            " 3   created_date2  6 non-null      datetime64[ns]\n",
            "dtypes: datetime64[ns](2), object(2)\n",
            "memory usage: 320.0+ bytes\n"
          ]
        }
      ],
      "source": [
        "df2.info()"
      ]
    },
    {
      "cell_type": "code",
      "execution_count": null,
      "id": "wooden-breach",
      "metadata": {
        "id": "wooden-breach"
      },
      "outputs": [],
      "source": [
        "df2['created_date2'] = pd.to_datetime(df2['created_date2'])"
      ]
    },
    {
      "cell_type": "code",
      "execution_count": null,
      "id": "normal-wheel",
      "metadata": {
        "id": "normal-wheel",
        "outputId": "52f90cba-d008-4f38-bae5-2b704eb97f22"
      },
      "outputs": [
        {
          "data": {
            "text/html": [
              "<div>\n",
              "<style scoped>\n",
              "    .dataframe tbody tr th:only-of-type {\n",
              "        vertical-align: middle;\n",
              "    }\n",
              "\n",
              "    .dataframe tbody tr th {\n",
              "        vertical-align: top;\n",
              "    }\n",
              "\n",
              "    .dataframe thead th {\n",
              "        text-align: right;\n",
              "    }\n",
              "</style>\n",
              "<table border=\"1\" class=\"dataframe\">\n",
              "  <thead>\n",
              "    <tr style=\"text-align: right;\">\n",
              "      <th></th>\n",
              "      <th>name</th>\n",
              "      <th>store_label</th>\n",
              "      <th>created_date</th>\n",
              "      <th>created_date2</th>\n",
              "    </tr>\n",
              "  </thead>\n",
              "  <tbody>\n",
              "    <tr>\n",
              "      <th>0</th>\n",
              "      <td>John</td>\n",
              "      <td>John</td>\n",
              "      <td>2021-01-02 05:37:22</td>\n",
              "      <td>2021-01-02 05:37:22</td>\n",
              "    </tr>\n",
              "    <tr>\n",
              "      <th>1</th>\n",
              "      <td>John</td>\n",
              "      <td>John</td>\n",
              "      <td>2021-02-21 05:38:06</td>\n",
              "      <td>2021-02-21 05:38:06</td>\n",
              "    </tr>\n",
              "    <tr>\n",
              "      <th>2</th>\n",
              "      <td>John</td>\n",
              "      <td>John</td>\n",
              "      <td>2021-02-21 05:38:50</td>\n",
              "      <td>2021-02-21 05:38:50</td>\n",
              "    </tr>\n",
              "    <tr>\n",
              "      <th>3</th>\n",
              "      <td>Tom</td>\n",
              "      <td>Tom</td>\n",
              "      <td>2021-02-21 06:35:25</td>\n",
              "      <td>2021-02-21 06:35:25</td>\n",
              "    </tr>\n",
              "    <tr>\n",
              "      <th>4</th>\n",
              "      <td>Som</td>\n",
              "      <td>Tom</td>\n",
              "      <td>2021-02-22 13:03:05</td>\n",
              "      <td>2021-02-22 13:03:05</td>\n",
              "    </tr>\n",
              "  </tbody>\n",
              "</table>\n",
              "</div>"
            ],
            "text/plain": [
              "   name store_label        created_date       created_date2\n",
              "0  John        John 2021-01-02 05:37:22 2021-01-02 05:37:22\n",
              "1  John        John 2021-02-21 05:38:06 2021-02-21 05:38:06\n",
              "2  John        John 2021-02-21 05:38:50 2021-02-21 05:38:50\n",
              "3   Tom         Tom 2021-02-21 06:35:25 2021-02-21 06:35:25\n",
              "4   Som         Tom 2021-02-22 13:03:05 2021-02-22 13:03:05"
            ]
          },
          "execution_count": 65,
          "metadata": {},
          "output_type": "execute_result"
        }
      ],
      "source": [
        "df2.head()"
      ]
    },
    {
      "cell_type": "code",
      "execution_count": null,
      "id": "correct-mailman",
      "metadata": {
        "id": "correct-mailman"
      },
      "outputs": [],
      "source": [
        ""
      ]
    },
    {
      "cell_type": "code",
      "execution_count": null,
      "id": "refined-grammar",
      "metadata": {
        "id": "refined-grammar"
      },
      "outputs": [],
      "source": [
        "df2['created_date_new'] = pd.to_datetime(df2['created_date'], format='%d/%m/%Y %H:%M:%S')"
      ]
    },
    {
      "cell_type": "code",
      "execution_count": null,
      "id": "discrete-glucose",
      "metadata": {
        "id": "discrete-glucose"
      },
      "outputs": [],
      "source": [
        "df2['created_date2_new'] = pd.to_datetime(df2['created_date2'], format='%d.%m.%Y %H:%M:%S')"
      ]
    },
    {
      "cell_type": "code",
      "execution_count": null,
      "id": "surprised-tucson",
      "metadata": {
        "id": "surprised-tucson"
      },
      "outputs": [],
      "source": [
        "df2['created_date_OnlyDate'] = pd.to_datetime(pd.to_datetime(((df2['created_date']).str[:])).dt.strftime('%d/%m/%Y'), format='%d/%m/%Y')\n",
        "df2['created_date_OnlyDate2'] = pd.to_datetime(pd.to_datetime(((df2['created_date2']).str[:])).dt.strftime('%d.%m.%Y'), format='%d.%m.%Y')"
      ]
    },
    {
      "cell_type": "code",
      "execution_count": null,
      "id": "fitted-cement",
      "metadata": {
        "id": "fitted-cement",
        "outputId": "99d219a5-fa40-4914-f80a-42e85705b173"
      },
      "outputs": [
        {
          "data": {
            "text/html": [
              "<div>\n",
              "<style scoped>\n",
              "    .dataframe tbody tr th:only-of-type {\n",
              "        vertical-align: middle;\n",
              "    }\n",
              "\n",
              "    .dataframe tbody tr th {\n",
              "        vertical-align: top;\n",
              "    }\n",
              "\n",
              "    .dataframe thead th {\n",
              "        text-align: right;\n",
              "    }\n",
              "</style>\n",
              "<table border=\"1\" class=\"dataframe\">\n",
              "  <thead>\n",
              "    <tr style=\"text-align: right;\">\n",
              "      <th></th>\n",
              "      <th>name</th>\n",
              "      <th>store_label</th>\n",
              "      <th>created_date</th>\n",
              "      <th>created_date2</th>\n",
              "      <th>created_date_new</th>\n",
              "      <th>created_date2_new</th>\n",
              "      <th>created_date_OnlyDate</th>\n",
              "      <th>created_date_OnlyDate2</th>\n",
              "    </tr>\n",
              "  </thead>\n",
              "  <tbody>\n",
              "    <tr>\n",
              "      <th>0</th>\n",
              "      <td>John</td>\n",
              "      <td>John</td>\n",
              "      <td>01/02/2021  05:37:22</td>\n",
              "      <td>01.02.2021  05:37:22</td>\n",
              "      <td>2021-02-01 05:37:22</td>\n",
              "      <td>2021-02-01 05:37:22</td>\n",
              "      <td>2021-02-01</td>\n",
              "      <td>2021-02-01</td>\n",
              "    </tr>\n",
              "    <tr>\n",
              "      <th>1</th>\n",
              "      <td>John</td>\n",
              "      <td>John</td>\n",
              "      <td>21/02/2021  05:38:06</td>\n",
              "      <td>21.02.2021  05:38:06</td>\n",
              "      <td>2021-02-21 05:38:06</td>\n",
              "      <td>2021-02-21 05:38:06</td>\n",
              "      <td>2021-02-21</td>\n",
              "      <td>2021-02-21</td>\n",
              "    </tr>\n",
              "    <tr>\n",
              "      <th>2</th>\n",
              "      <td>John</td>\n",
              "      <td>John</td>\n",
              "      <td>21/02/2021  05:38:50</td>\n",
              "      <td>21.02.2021  05:38:50</td>\n",
              "      <td>2021-02-21 05:38:50</td>\n",
              "      <td>2021-02-21 05:38:50</td>\n",
              "      <td>2021-02-21</td>\n",
              "      <td>2021-02-21</td>\n",
              "    </tr>\n",
              "    <tr>\n",
              "      <th>3</th>\n",
              "      <td>Tom</td>\n",
              "      <td>Tom</td>\n",
              "      <td>21/02/2021  06:35:25</td>\n",
              "      <td>21.02.2021  06:35:25</td>\n",
              "      <td>2021-02-21 06:35:25</td>\n",
              "      <td>2021-02-21 06:35:25</td>\n",
              "      <td>2021-02-21</td>\n",
              "      <td>2021-02-21</td>\n",
              "    </tr>\n",
              "    <tr>\n",
              "      <th>4</th>\n",
              "      <td>Som</td>\n",
              "      <td>Tom</td>\n",
              "      <td>22/02/2021  13:03:05</td>\n",
              "      <td>22.02.2021  13:03:05</td>\n",
              "      <td>2021-02-22 13:03:05</td>\n",
              "      <td>2021-02-22 13:03:05</td>\n",
              "      <td>2021-02-22</td>\n",
              "      <td>2021-02-22</td>\n",
              "    </tr>\n",
              "    <tr>\n",
              "      <th>5</th>\n",
              "      <td>Som</td>\n",
              "      <td>Tom</td>\n",
              "      <td>22/02/2021  13:05:05</td>\n",
              "      <td>22.02.2021  13:05:05</td>\n",
              "      <td>2021-02-22 13:05:05</td>\n",
              "      <td>2021-02-22 13:05:05</td>\n",
              "      <td>2021-02-22</td>\n",
              "      <td>2021-02-22</td>\n",
              "    </tr>\n",
              "  </tbody>\n",
              "</table>\n",
              "</div>"
            ],
            "text/plain": [
              "   name store_label          created_date         created_date2  \\\n",
              "0  John        John  01/02/2021  05:37:22  01.02.2021  05:37:22   \n",
              "1  John        John  21/02/2021  05:38:06  21.02.2021  05:38:06   \n",
              "2  John        John  21/02/2021  05:38:50  21.02.2021  05:38:50   \n",
              "3   Tom         Tom  21/02/2021  06:35:25  21.02.2021  06:35:25   \n",
              "4   Som         Tom  22/02/2021  13:03:05  22.02.2021  13:03:05   \n",
              "5   Som         Tom  22/02/2021  13:05:05  22.02.2021  13:05:05   \n",
              "\n",
              "     created_date_new   created_date2_new created_date_OnlyDate  \\\n",
              "0 2021-02-01 05:37:22 2021-02-01 05:37:22            2021-02-01   \n",
              "1 2021-02-21 05:38:06 2021-02-21 05:38:06            2021-02-21   \n",
              "2 2021-02-21 05:38:50 2021-02-21 05:38:50            2021-02-21   \n",
              "3 2021-02-21 06:35:25 2021-02-21 06:35:25            2021-02-21   \n",
              "4 2021-02-22 13:03:05 2021-02-22 13:03:05            2021-02-22   \n",
              "5 2021-02-22 13:05:05 2021-02-22 13:05:05            2021-02-22   \n",
              "\n",
              "  created_date_OnlyDate2  \n",
              "0             2021-02-01  \n",
              "1             2021-02-21  \n",
              "2             2021-02-21  \n",
              "3             2021-02-21  \n",
              "4             2021-02-22  \n",
              "5             2021-02-22  "
            ]
          },
          "execution_count": 84,
          "metadata": {},
          "output_type": "execute_result"
        }
      ],
      "source": [
        "df2"
      ]
    },
    {
      "cell_type": "code",
      "execution_count": null,
      "id": "french-package",
      "metadata": {
        "id": "french-package"
      },
      "outputs": [],
      "source": [
        ""
      ]
    }
  ],
  "metadata": {
    "kernelspec": {
      "display_name": "Python 3",
      "language": "python",
      "name": "python3"
    },
    "language_info": {
      "codemirror_mode": {
        "name": "ipython",
        "version": 3
      },
      "file_extension": ".py",
      "mimetype": "text/x-python",
      "name": "python",
      "nbconvert_exporter": "python",
      "pygments_lexer": "ipython3",
      "version": "3.8.5"
    },
    "colab": {
      "name": "Rough_workings_for_explanations.ipynb",
      "provenance": [],
      "include_colab_link": true
    }
  },
  "nbformat": 4,
  "nbformat_minor": 5
}